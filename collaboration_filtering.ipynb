{
 "cells": [
  {
   "cell_type": "code",
   "execution_count": 1,
   "metadata": {},
   "outputs": [],
   "source": [
    "import pandas as pd\n",
    "import numpy as np\n",
    "import math\n",
    "import re\n",
    "from scipy.sparse import csr_matrix\n",
    "import matplotlib.pyplot as plt\n",
    "import seaborn as sns\n",
    "from surprise import Reader, Dataset, SVD, evaluate\n",
    "from surprise.model_selection import cross_validate\n",
    "import warnings\n",
    "warnings.filterwarnings('ignore')"
   ]
  },
  {
   "cell_type": "code",
   "execution_count": 2,
   "metadata": {},
   "outputs": [
    {
     "data": {
      "text/html": [
       "<div>\n",
       "<style scoped>\n",
       "    .dataframe tbody tr th:only-of-type {\n",
       "        vertical-align: middle;\n",
       "    }\n",
       "\n",
       "    .dataframe tbody tr th {\n",
       "        vertical-align: top;\n",
       "    }\n",
       "\n",
       "    .dataframe thead th {\n",
       "        text-align: right;\n",
       "    }\n",
       "</style>\n",
       "<table border=\"1\" class=\"dataframe\">\n",
       "  <thead>\n",
       "    <tr style=\"text-align: right;\">\n",
       "      <th></th>\n",
       "      <th>product_id</th>\n",
       "      <th>product_name</th>\n",
       "      <th>rating</th>\n",
       "      <th>user_purchased_id</th>\n",
       "      <th>user_purchased_name</th>\n",
       "    </tr>\n",
       "  </thead>\n",
       "  <tbody>\n",
       "    <tr>\n",
       "      <th>0</th>\n",
       "      <td>1694077</td>\n",
       "      <td>Bạn Đắt Giá Bao Nhiêu?</td>\n",
       "      <td>5</td>\n",
       "      <td>6027043.0</td>\n",
       "      <td>Trần Thảo Linh</td>\n",
       "    </tr>\n",
       "    <tr>\n",
       "      <th>1</th>\n",
       "      <td>1694077</td>\n",
       "      <td>Bạn Đắt Giá Bao Nhiêu?</td>\n",
       "      <td>4</td>\n",
       "      <td>2192432.0</td>\n",
       "      <td>Phượngg Nguyễn</td>\n",
       "    </tr>\n",
       "    <tr>\n",
       "      <th>2</th>\n",
       "      <td>1694077</td>\n",
       "      <td>Bạn Đắt Giá Bao Nhiêu?</td>\n",
       "      <td>5</td>\n",
       "      <td>1671594.0</td>\n",
       "      <td>Lê Thị Bích Yên</td>\n",
       "    </tr>\n",
       "    <tr>\n",
       "      <th>3</th>\n",
       "      <td>1694077</td>\n",
       "      <td>Bạn Đắt Giá Bao Nhiêu?</td>\n",
       "      <td>5</td>\n",
       "      <td>6402201.0</td>\n",
       "      <td>Zalo Dun Dun</td>\n",
       "    </tr>\n",
       "    <tr>\n",
       "      <th>4</th>\n",
       "      <td>1694077</td>\n",
       "      <td>Bạn Đắt Giá Bao Nhiêu?</td>\n",
       "      <td>5</td>\n",
       "      <td>11043623.0</td>\n",
       "      <td>Ngoc ng</td>\n",
       "    </tr>\n",
       "  </tbody>\n",
       "</table>\n",
       "</div>"
      ],
      "text/plain": [
       "   product_id            product_name  rating  user_purchased_id  \\\n",
       "0     1694077  Bạn Đắt Giá Bao Nhiêu?       5          6027043.0   \n",
       "1     1694077  Bạn Đắt Giá Bao Nhiêu?       4          2192432.0   \n",
       "2     1694077  Bạn Đắt Giá Bao Nhiêu?       5          1671594.0   \n",
       "3     1694077  Bạn Đắt Giá Bao Nhiêu?       5          6402201.0   \n",
       "4     1694077  Bạn Đắt Giá Bao Nhiêu?       5         11043623.0   \n",
       "\n",
       "  user_purchased_name  \n",
       "0      Trần Thảo Linh  \n",
       "1      Phượngg Nguyễn  \n",
       "2     Lê Thị Bích Yên  \n",
       "3        Zalo Dun Dun  \n",
       "4             Ngoc ng  "
      ]
     },
     "execution_count": 2,
     "metadata": {},
     "output_type": "execute_result"
    }
   ],
   "source": [
    "#load data to data frame\n",
    "df = pd.read_csv('_500_book_all.csv', sep=',')\n",
    "df = df.drop(['category_id','user_id','comment','comment_time','isPurchased','purchased_time','thanked','thank_count'], axis=1)\n",
    "df.head()"
   ]
  },
  {
   "cell_type": "code",
   "execution_count": 3,
   "metadata": {},
   "outputs": [
    {
     "data": {
      "text/html": [
       "<div>\n",
       "<style scoped>\n",
       "    .dataframe tbody tr th:only-of-type {\n",
       "        vertical-align: middle;\n",
       "    }\n",
       "\n",
       "    .dataframe tbody tr th {\n",
       "        vertical-align: top;\n",
       "    }\n",
       "\n",
       "    .dataframe thead th {\n",
       "        text-align: right;\n",
       "    }\n",
       "</style>\n",
       "<table border=\"1\" class=\"dataframe\">\n",
       "  <thead>\n",
       "    <tr style=\"text-align: right;\">\n",
       "      <th></th>\n",
       "      <th>product_id</th>\n",
       "      <th>rating</th>\n",
       "      <th>user_purchased_id</th>\n",
       "    </tr>\n",
       "  </thead>\n",
       "  <tbody>\n",
       "    <tr>\n",
       "      <th>count</th>\n",
       "      <td>1.583900e+04</td>\n",
       "      <td>15839.000000</td>\n",
       "      <td>1.505800e+04</td>\n",
       "    </tr>\n",
       "    <tr>\n",
       "      <th>mean</th>\n",
       "      <td>2.216273e+06</td>\n",
       "      <td>4.389103</td>\n",
       "      <td>5.128230e+06</td>\n",
       "    </tr>\n",
       "    <tr>\n",
       "      <th>std</th>\n",
       "      <td>2.863188e+06</td>\n",
       "      <td>1.101691</td>\n",
       "      <td>3.335354e+06</td>\n",
       "    </tr>\n",
       "    <tr>\n",
       "      <th>min</th>\n",
       "      <td>1.507910e+05</td>\n",
       "      <td>1.000000</td>\n",
       "      <td>1.580000e+02</td>\n",
       "    </tr>\n",
       "    <tr>\n",
       "      <th>25%</th>\n",
       "      <td>5.290480e+05</td>\n",
       "      <td>4.000000</td>\n",
       "      <td>1.603774e+06</td>\n",
       "    </tr>\n",
       "    <tr>\n",
       "      <th>50%</th>\n",
       "      <td>8.552220e+05</td>\n",
       "      <td>5.000000</td>\n",
       "      <td>5.817653e+06</td>\n",
       "    </tr>\n",
       "    <tr>\n",
       "      <th>75%</th>\n",
       "      <td>2.393066e+06</td>\n",
       "      <td>5.000000</td>\n",
       "      <td>7.412802e+06</td>\n",
       "    </tr>\n",
       "    <tr>\n",
       "      <th>max</th>\n",
       "      <td>1.430784e+07</td>\n",
       "      <td>5.000000</td>\n",
       "      <td>1.189568e+07</td>\n",
       "    </tr>\n",
       "  </tbody>\n",
       "</table>\n",
       "</div>"
      ],
      "text/plain": [
       "         product_id        rating  user_purchased_id\n",
       "count  1.583900e+04  15839.000000       1.505800e+04\n",
       "mean   2.216273e+06      4.389103       5.128230e+06\n",
       "std    2.863188e+06      1.101691       3.335354e+06\n",
       "min    1.507910e+05      1.000000       1.580000e+02\n",
       "25%    5.290480e+05      4.000000       1.603774e+06\n",
       "50%    8.552220e+05      5.000000       5.817653e+06\n",
       "75%    2.393066e+06      5.000000       7.412802e+06\n",
       "max    1.430784e+07      5.000000       1.189568e+07"
      ]
     },
     "execution_count": 3,
     "metadata": {},
     "output_type": "execute_result"
    }
   ],
   "source": [
    "df.describe()"
   ]
  },
  {
   "cell_type": "code",
   "execution_count": 4,
   "metadata": {},
   "outputs": [
    {
     "data": {
      "text/html": [
       "<div>\n",
       "<style scoped>\n",
       "    .dataframe tbody tr th:only-of-type {\n",
       "        vertical-align: middle;\n",
       "    }\n",
       "\n",
       "    .dataframe tbody tr th {\n",
       "        vertical-align: top;\n",
       "    }\n",
       "\n",
       "    .dataframe thead th {\n",
       "        text-align: right;\n",
       "    }\n",
       "</style>\n",
       "<table border=\"1\" class=\"dataframe\">\n",
       "  <thead>\n",
       "    <tr style=\"text-align: right;\">\n",
       "      <th></th>\n",
       "      <th>rating</th>\n",
       "    </tr>\n",
       "    <tr>\n",
       "      <th>product_name</th>\n",
       "      <th></th>\n",
       "    </tr>\n",
       "  </thead>\n",
       "  <tbody>\n",
       "    <tr>\n",
       "      <th>#MinhvaLinh Hai Chúng Mình Đi Khắp Thế Giới</th>\n",
       "      <td>4.0</td>\n",
       "    </tr>\n",
       "    <tr>\n",
       "      <th>1, 2, 3… Và Yêu</th>\n",
       "      <td>3.0</td>\n",
       "    </tr>\n",
       "    <tr>\n",
       "      <th>10 Ngày Ngắm Thế Giới Của Mắt Nhắm Tịt - Bản đặc biệt tặng kèm sổ tay</th>\n",
       "      <td>5.0</td>\n",
       "    </tr>\n",
       "    <tr>\n",
       "      <th>10 Phút Tự Học Tiếng Hàn Mỗi Ngày</th>\n",
       "      <td>5.0</td>\n",
       "    </tr>\n",
       "    <tr>\n",
       "      <th>10 Phút Tự Học Tiếng Trung Mỗi Ngày (Học Cùng App Hoặc Kèm CD)</th>\n",
       "      <td>5.0</td>\n",
       "    </tr>\n",
       "  </tbody>\n",
       "</table>\n",
       "</div>"
      ],
      "text/plain": [
       "                                                    rating\n",
       "product_name                                              \n",
       "#MinhvaLinh Hai Chúng Mình Đi Khắp Thế Giới            4.0\n",
       "1, 2, 3… Và Yêu                                        3.0\n",
       "10 Ngày Ngắm Thế Giới Của Mắt Nhắm Tịt - Bản đặ...     5.0\n",
       "10 Phút Tự Học Tiếng Hàn Mỗi Ngày                      5.0\n",
       "10 Phút Tự Học Tiếng Trung Mỗi Ngày (Học Cùng A...     5.0"
      ]
     },
     "execution_count": 4,
     "metadata": {},
     "output_type": "execute_result"
    }
   ],
   "source": [
    "#Get average rating for each book\n",
    "ratings = pd.DataFrame(df.groupby('product_name')['rating'].mean())\n",
    "ratings.head()"
   ]
  },
  {
   "cell_type": "code",
   "execution_count": 5,
   "metadata": {},
   "outputs": [
    {
     "data": {
      "text/html": [
       "<div>\n",
       "<style scoped>\n",
       "    .dataframe tbody tr th:only-of-type {\n",
       "        vertical-align: middle;\n",
       "    }\n",
       "\n",
       "    .dataframe tbody tr th {\n",
       "        vertical-align: top;\n",
       "    }\n",
       "\n",
       "    .dataframe thead th {\n",
       "        text-align: right;\n",
       "    }\n",
       "</style>\n",
       "<table border=\"1\" class=\"dataframe\">\n",
       "  <thead>\n",
       "    <tr style=\"text-align: right;\">\n",
       "      <th></th>\n",
       "      <th>rating</th>\n",
       "      <th>number_of_ratings</th>\n",
       "    </tr>\n",
       "    <tr>\n",
       "      <th>product_name</th>\n",
       "      <th></th>\n",
       "      <th></th>\n",
       "    </tr>\n",
       "  </thead>\n",
       "  <tbody>\n",
       "    <tr>\n",
       "      <th>#MinhvaLinh Hai Chúng Mình Đi Khắp Thế Giới</th>\n",
       "      <td>4.0</td>\n",
       "      <td>1</td>\n",
       "    </tr>\n",
       "    <tr>\n",
       "      <th>1, 2, 3… Và Yêu</th>\n",
       "      <td>3.0</td>\n",
       "      <td>1</td>\n",
       "    </tr>\n",
       "    <tr>\n",
       "      <th>10 Ngày Ngắm Thế Giới Của Mắt Nhắm Tịt - Bản đặc biệt tặng kèm sổ tay</th>\n",
       "      <td>5.0</td>\n",
       "      <td>2</td>\n",
       "    </tr>\n",
       "    <tr>\n",
       "      <th>10 Phút Tự Học Tiếng Hàn Mỗi Ngày</th>\n",
       "      <td>5.0</td>\n",
       "      <td>1</td>\n",
       "    </tr>\n",
       "    <tr>\n",
       "      <th>10 Phút Tự Học Tiếng Trung Mỗi Ngày (Học Cùng App Hoặc Kèm CD)</th>\n",
       "      <td>5.0</td>\n",
       "      <td>1</td>\n",
       "    </tr>\n",
       "  </tbody>\n",
       "</table>\n",
       "</div>"
      ],
      "text/plain": [
       "                                                    rating  number_of_ratings\n",
       "product_name                                                                 \n",
       "#MinhvaLinh Hai Chúng Mình Đi Khắp Thế Giới            4.0                  1\n",
       "1, 2, 3… Và Yêu                                        3.0                  1\n",
       "10 Ngày Ngắm Thế Giới Của Mắt Nhắm Tịt - Bản đặ...     5.0                  2\n",
       "10 Phút Tự Học Tiếng Hàn Mỗi Ngày                      5.0                  1\n",
       "10 Phút Tự Học Tiếng Trung Mỗi Ngày (Học Cùng A...     5.0                  1"
      ]
     },
     "execution_count": 5,
     "metadata": {},
     "output_type": "execute_result"
    }
   ],
   "source": [
    "#Get number rating for each book\n",
    "ratings['number_of_ratings'] = df.groupby('product_name')['rating'].count()\n",
    "ratings.head()"
   ]
  },
  {
   "cell_type": "code",
   "execution_count": 6,
   "metadata": {},
   "outputs": [
    {
     "data": {
      "text/plain": [
       "<matplotlib.axes._subplots.AxesSubplot at 0x1a1eeb9cc0>"
      ]
     },
     "execution_count": 6,
     "metadata": {},
     "output_type": "execute_result"
    },
    {
     "data": {
      "image/png": "[encoded data removed]",
      "text/plain": [
       "<Figure size 432x288 with 1 Axes>"
      ]
     },
     "metadata": {
      "needs_background": "light"
     },
     "output_type": "display_data"
    }
   ],
   "source": [
    "#visualize the distribution of the ratings star\n",
    "ratings['rating'].hist(bins=50)"
   ]
  },
  {
   "cell_type": "code",
   "execution_count": 7,
   "metadata": {},
   "outputs": [
    {
     "data": {
      "text/plain": [
       "<matplotlib.axes._subplots.AxesSubplot at 0x1a1f159668>"
      ]
     },
     "execution_count": 7,
     "metadata": {},
     "output_type": "execute_result"
    },
    {
     "data": {
      "image/png": "[encoded data removed]",
      "text/plain": [
       "<Figure size 432x288 with 1 Axes>"
      ]
     },
     "metadata": {
      "needs_background": "light"
     },
     "output_type": "display_data"
    }
   ],
   "source": [
    "#visualize the number_of_ratings column\n",
    "ratings['number_of_ratings'].hist(bins=60)"
   ]
  },
  {
   "cell_type": "code",
   "execution_count": 8,
   "metadata": {},
   "outputs": [
    {
     "data": {
      "text/plain": [
       "<seaborn.axisgrid.JointGrid at 0x1a1efdb438>"
      ]
     },
     "execution_count": 8,
     "metadata": {},
     "output_type": "execute_result"
    },
    {
     "data": {
      "image/png": "[encoded data removed]",
      "text/plain": [
       "<Figure size 432x432 with 3 Axes>"
      ]
     },
     "metadata": {
      "needs_background": "light"
     },
     "output_type": "display_data"
    }
   ],
   "source": [
    "# visualize the relationship between the rating of a book and the number of ratings\n",
    "sns.jointplot(x='rating', y='number_of_ratings', data=ratings)"
   ]
  },
  {
   "cell_type": "code",
   "execution_count": 9,
   "metadata": {},
   "outputs": [
    {
     "data": {
      "text/html": [
       "<div>\n",
       "<style scoped>\n",
       "    .dataframe tbody tr th:only-of-type {\n",
       "        vertical-align: middle;\n",
       "    }\n",
       "\n",
       "    .dataframe tbody tr th {\n",
       "        vertical-align: top;\n",
       "    }\n",
       "\n",
       "    .dataframe thead th {\n",
       "        text-align: right;\n",
       "    }\n",
       "</style>\n",
       "<table border=\"1\" class=\"dataframe\">\n",
       "  <thead>\n",
       "    <tr style=\"text-align: right;\">\n",
       "      <th></th>\n",
       "      <th>rating</th>\n",
       "      <th>number_of_ratings</th>\n",
       "    </tr>\n",
       "    <tr>\n",
       "      <th>product_name</th>\n",
       "      <th></th>\n",
       "      <th></th>\n",
       "    </tr>\n",
       "  </thead>\n",
       "  <tbody>\n",
       "    <tr>\n",
       "      <th>Tuổi Trẻ Đáng Giá Bao Nhiêu</th>\n",
       "      <td>4.465000</td>\n",
       "      <td>200</td>\n",
       "    </tr>\n",
       "    <tr>\n",
       "      <th>Sherlock Holmes Toàn Tập  (3 Tập - Bìa Cứng - Hộp Ngang)</th>\n",
       "      <td>4.775000</td>\n",
       "      <td>200</td>\n",
       "    </tr>\n",
       "    <tr>\n",
       "      <th>Đắc Nhân Tâm (Khổ Lớn)</th>\n",
       "      <td>4.430108</td>\n",
       "      <td>186</td>\n",
       "    </tr>\n",
       "    <tr>\n",
       "      <th>Nhà Giả Kim</th>\n",
       "      <td>4.479452</td>\n",
       "      <td>146</td>\n",
       "    </tr>\n",
       "    <tr>\n",
       "      <th>Your Name</th>\n",
       "      <td>4.748031</td>\n",
       "      <td>127</td>\n",
       "    </tr>\n",
       "    <tr>\n",
       "      <th>Bạn Đắt Giá Bao Nhiêu?</th>\n",
       "      <td>4.653226</td>\n",
       "      <td>124</td>\n",
       "    </tr>\n",
       "    <tr>\n",
       "      <th>5 Centimet Trên Giây</th>\n",
       "      <td>4.692308</td>\n",
       "      <td>117</td>\n",
       "    </tr>\n",
       "    <tr>\n",
       "      <th>Mình Là Cá, Việc Của Mình Là Bơi</th>\n",
       "      <td>3.974359</td>\n",
       "      <td>117</td>\n",
       "    </tr>\n",
       "    <tr>\n",
       "      <th>Thất Tịch Không Mưa</th>\n",
       "      <td>4.752137</td>\n",
       "      <td>117</td>\n",
       "    </tr>\n",
       "    <tr>\n",
       "      <th>Yêu Em Từ Cái Nhìn Đầu Tiên (Ấn Bản Kỷ Niệm) - Tặng Kèm 7 Bookmark Nhân Vật Và 3 Postcard</th>\n",
       "      <td>4.833333</td>\n",
       "      <td>90</td>\n",
       "    </tr>\n",
       "  </tbody>\n",
       "</table>\n",
       "</div>"
      ],
      "text/plain": [
       "                                                      rating  \\\n",
       "product_name                                                   \n",
       "Tuổi Trẻ Đáng Giá Bao Nhiêu                         4.465000   \n",
       "Sherlock Holmes Toàn Tập  (3 Tập - Bìa Cứng - H...  4.775000   \n",
       "Đắc Nhân Tâm (Khổ Lớn)                              4.430108   \n",
       "Nhà Giả Kim                                         4.479452   \n",
       "Your Name                                           4.748031   \n",
       "Bạn Đắt Giá Bao Nhiêu?                              4.653226   \n",
       "5 Centimet Trên Giây                                4.692308   \n",
       "Mình Là Cá, Việc Của Mình Là Bơi                    3.974359   \n",
       "Thất Tịch Không Mưa                                 4.752137   \n",
       "Yêu Em Từ Cái Nhìn Đầu Tiên (Ấn Bản Kỷ Niệm) - ...  4.833333   \n",
       "\n",
       "                                                    number_of_ratings  \n",
       "product_name                                                           \n",
       "Tuổi Trẻ Đáng Giá Bao Nhiêu                                       200  \n",
       "Sherlock Holmes Toàn Tập  (3 Tập - Bìa Cứng - H...                200  \n",
       "Đắc Nhân Tâm (Khổ Lớn)                                            186  \n",
       "Nhà Giả Kim                                                       146  \n",
       "Your Name                                                         127  \n",
       "Bạn Đắt Giá Bao Nhiêu?                                            124  \n",
       "5 Centimet Trên Giây                                              117  \n",
       "Mình Là Cá, Việc Của Mình Là Bơi                                  117  \n",
       "Thất Tịch Không Mưa                                               117  \n",
       "Yêu Em Từ Cái Nhìn Đầu Tiên (Ấn Bản Kỷ Niệm) - ...                 90  "
      ]
     },
     "execution_count": 9,
     "metadata": {},
     "output_type": "execute_result"
    }
   ],
   "source": [
    "ratings.sort_values('number_of_ratings', ascending=False).head(10)"
   ]
  },
  {
   "cell_type": "code",
   "execution_count": 10,
   "metadata": {},
   "outputs": [],
   "source": [
    "f = ['count','mean']\n",
    "\n",
    "df_book_summary = df.groupby('product_id')['rating'].agg(f)\n",
    "df_book_summary.index = df_book_summary.index.map(int)\n",
    "drop_book_list = df_book_summary[df_book_summary['count'] < 6].index\n",
    "\n",
    "\n",
    "df_cust_summary = df.groupby('user_purchased_id')['rating'].agg(f)\n",
    "df_cust_summary.index = df_cust_summary.index.map(int)\n",
    "drop_cust_list = df_cust_summary[df_cust_summary['count'] < 4].index"
   ]
  },
  {
   "cell_type": "code",
   "execution_count": 11,
   "metadata": {},
   "outputs": [
    {
     "name": "stdout",
     "output_type": "stream",
     "text": [
      "Original Shape: (15839, 5)\n",
      "After Trim Shape: (1888, 5)\n"
     ]
    }
   ],
   "source": [
    "print('Original Shape: {}'.format(df.shape))\n",
    "df = df[~df['product_id'].isin(drop_book_list)]\n",
    "df = df[~df['user_purchased_id'].isin(drop_cust_list)]\n",
    "print('After Trim Shape: {}'.format(df.shape))"
   ]
  },
  {
   "cell_type": "code",
   "execution_count": 12,
   "metadata": {},
   "outputs": [
    {
     "name": "stdout",
     "output_type": "stream",
     "text": [
      "Shape: (369, 485)\n",
      "Percent NAN: 0.99235045958707\n"
     ]
    }
   ],
   "source": [
    "book_matrix = df.pivot_table(index='user_purchased_id', columns='product_id', values='rating')\n",
    "print('Shape: {}'.format(book_matrix.shape))\n",
    "print('Percent NAN: {}'.format(book_matrix.isna().sum().sum()/book_matrix.shape[0]/book_matrix.shape[1]))"
   ]
  },
  {
   "cell_type": "code",
   "execution_count": 13,
   "metadata": {},
   "outputs": [
    {
     "data": {
      "text/plain": [
       "{'test_rmse': array([0.58052591, 0.71693507, 0.68983679, 0.62339935, 0.67234302]),\n",
       " 'test_mae': array([0.37648537, 0.43275204, 0.3998395 , 0.40086589, 0.41206131]),\n",
       " 'test_fcp': array([0.57142857, 0.54904832, 0.47368421, 0.5483871 , 0.42823529]),\n",
       " 'fit_time': (0.5659420490264893,\n",
       "  0.4876739978790283,\n",
       "  0.4923229217529297,\n",
       "  0.4770231246948242,\n",
       "  0.43836307525634766),\n",
       " 'test_time': (0.010483980178833008,\n",
       "  0.011203765869140625,\n",
       "  0.008357048034667969,\n",
       "  0.005375862121582031,\n",
       "  0.0056269168853759766)}"
      ]
     },
     "execution_count": 13,
     "metadata": {},
     "output_type": "execute_result"
    }
   ],
   "source": [
    "reader = Reader()\n",
    "data = Dataset.load_from_df(df[['user_purchased_id', 'product_id', 'rating']], reader)\n",
    "\n",
    "svd = SVD(n_factors = 40, n_epochs = 100)\n",
    "cross_validate(svd, data,measures=['rmse', 'mae','fcp'],n_jobs=-1)"
   ]
  },
  {
   "cell_type": "code",
   "execution_count": 14,
   "metadata": {},
   "outputs": [
    {
     "data": {
      "text/plain": [
       "<surprise.prediction_algorithms.matrix_factorization.SVD at 0x1a1dd15470>"
      ]
     },
     "execution_count": 14,
     "metadata": {},
     "output_type": "execute_result"
    }
   ],
   "source": [
    "# getting full dataset\n",
    "data = Dataset.load_from_df(df[['user_purchased_id', 'product_id', 'rating']], reader)\n",
    "\n",
    "trainset = data.build_full_trainset()\n",
    "svd.fit(trainset)"
   ]
  },
  {
   "cell_type": "code",
   "execution_count": 15,
   "metadata": {},
   "outputs": [
    {
     "data": {
      "text/html": [
       "<div>\n",
       "<style scoped>\n",
       "    .dataframe tbody tr th:only-of-type {\n",
       "        vertical-align: middle;\n",
       "    }\n",
       "\n",
       "    .dataframe tbody tr th {\n",
       "        vertical-align: top;\n",
       "    }\n",
       "\n",
       "    .dataframe thead th {\n",
       "        text-align: right;\n",
       "    }\n",
       "</style>\n",
       "<table border=\"1\" class=\"dataframe\">\n",
       "  <thead>\n",
       "    <tr style=\"text-align: right;\">\n",
       "      <th></th>\n",
       "      <th>rating</th>\n",
       "      <th>number_ratings</th>\n",
       "    </tr>\n",
       "    <tr>\n",
       "      <th>user_purchased_id</th>\n",
       "      <th></th>\n",
       "      <th></th>\n",
       "    </tr>\n",
       "  </thead>\n",
       "  <tbody>\n",
       "    <tr>\n",
       "      <th>405796.0</th>\n",
       "      <td>4.800000</td>\n",
       "      <td>20</td>\n",
       "    </tr>\n",
       "    <tr>\n",
       "      <th>6595976.0</th>\n",
       "      <td>4.789474</td>\n",
       "      <td>19</td>\n",
       "    </tr>\n",
       "    <tr>\n",
       "      <th>9057288.0</th>\n",
       "      <td>4.933333</td>\n",
       "      <td>15</td>\n",
       "    </tr>\n",
       "    <tr>\n",
       "      <th>989012.0</th>\n",
       "      <td>4.909091</td>\n",
       "      <td>11</td>\n",
       "    </tr>\n",
       "    <tr>\n",
       "      <th>5221161.0</th>\n",
       "      <td>4.000000</td>\n",
       "      <td>10</td>\n",
       "    </tr>\n",
       "    <tr>\n",
       "      <th>8220617.0</th>\n",
       "      <td>4.600000</td>\n",
       "      <td>10</td>\n",
       "    </tr>\n",
       "    <tr>\n",
       "      <th>7975127.0</th>\n",
       "      <td>4.600000</td>\n",
       "      <td>10</td>\n",
       "    </tr>\n",
       "    <tr>\n",
       "      <th>6992378.0</th>\n",
       "      <td>4.888889</td>\n",
       "      <td>9</td>\n",
       "    </tr>\n",
       "    <tr>\n",
       "      <th>5102075.0</th>\n",
       "      <td>5.000000</td>\n",
       "      <td>9</td>\n",
       "    </tr>\n",
       "    <tr>\n",
       "      <th>5376522.0</th>\n",
       "      <td>4.750000</td>\n",
       "      <td>8</td>\n",
       "    </tr>\n",
       "    <tr>\n",
       "      <th>636330.0</th>\n",
       "      <td>4.750000</td>\n",
       "      <td>8</td>\n",
       "    </tr>\n",
       "    <tr>\n",
       "      <th>6444691.0</th>\n",
       "      <td>5.000000</td>\n",
       "      <td>8</td>\n",
       "    </tr>\n",
       "    <tr>\n",
       "      <th>7214308.0</th>\n",
       "      <td>5.000000</td>\n",
       "      <td>8</td>\n",
       "    </tr>\n",
       "    <tr>\n",
       "      <th>5231781.0</th>\n",
       "      <td>4.875000</td>\n",
       "      <td>8</td>\n",
       "    </tr>\n",
       "    <tr>\n",
       "      <th>6916896.0</th>\n",
       "      <td>4.875000</td>\n",
       "      <td>8</td>\n",
       "    </tr>\n",
       "    <tr>\n",
       "      <th>5554915.0</th>\n",
       "      <td>5.000000</td>\n",
       "      <td>8</td>\n",
       "    </tr>\n",
       "    <tr>\n",
       "      <th>5830720.0</th>\n",
       "      <td>4.375000</td>\n",
       "      <td>8</td>\n",
       "    </tr>\n",
       "    <tr>\n",
       "      <th>7575940.0</th>\n",
       "      <td>5.000000</td>\n",
       "      <td>8</td>\n",
       "    </tr>\n",
       "    <tr>\n",
       "      <th>2070323.0</th>\n",
       "      <td>4.500000</td>\n",
       "      <td>8</td>\n",
       "    </tr>\n",
       "    <tr>\n",
       "      <th>5100762.0</th>\n",
       "      <td>4.857143</td>\n",
       "      <td>7</td>\n",
       "    </tr>\n",
       "  </tbody>\n",
       "</table>\n",
       "</div>"
      ],
      "text/plain": [
       "                     rating  number_ratings\n",
       "user_purchased_id                          \n",
       "405796.0           4.800000              20\n",
       "6595976.0          4.789474              19\n",
       "9057288.0          4.933333              15\n",
       "989012.0           4.909091              11\n",
       "5221161.0          4.000000              10\n",
       "8220617.0          4.600000              10\n",
       "7975127.0          4.600000              10\n",
       "6992378.0          4.888889               9\n",
       "5102075.0          5.000000               9\n",
       "5376522.0          4.750000               8\n",
       "636330.0           4.750000               8\n",
       "6444691.0          5.000000               8\n",
       "7214308.0          5.000000               8\n",
       "5231781.0          4.875000               8\n",
       "6916896.0          4.875000               8\n",
       "5554915.0          5.000000               8\n",
       "5830720.0          4.375000               8\n",
       "7575940.0          5.000000               8\n",
       "2070323.0          4.500000               8\n",
       "5100762.0          4.857143               7"
      ]
     },
     "execution_count": 15,
     "metadata": {},
     "output_type": "execute_result"
    }
   ],
   "source": [
    "#Get number rating for each book\n",
    "user_ratings = pd.DataFrame(df.groupby('user_purchased_id')['rating'].mean())\n",
    "user_ratings['number_ratings'] = df.groupby('user_purchased_id')['rating'].count()\n",
    "user_ratings.sort_values('number_ratings', ascending=False).head(20)"
   ]
  },
  {
   "cell_type": "code",
   "execution_count": 16,
   "metadata": {},
   "outputs": [
    {
     "data": {
      "text/html": [
       "<div>\n",
       "<style scoped>\n",
       "    .dataframe tbody tr th:only-of-type {\n",
       "        vertical-align: middle;\n",
       "    }\n",
       "\n",
       "    .dataframe tbody tr th {\n",
       "        vertical-align: top;\n",
       "    }\n",
       "\n",
       "    .dataframe thead th {\n",
       "        text-align: right;\n",
       "    }\n",
       "</style>\n",
       "<table border=\"1\" class=\"dataframe\">\n",
       "  <thead>\n",
       "    <tr style=\"text-align: right;\">\n",
       "      <th></th>\n",
       "      <th>product_name</th>\n",
       "      <th>rating</th>\n",
       "      <th>user_purchased_id</th>\n",
       "      <th>user_purchased_name</th>\n",
       "    </tr>\n",
       "    <tr>\n",
       "      <th>product_id</th>\n",
       "      <th></th>\n",
       "      <th></th>\n",
       "      <th></th>\n",
       "      <th></th>\n",
       "    </tr>\n",
       "  </thead>\n",
       "  <tbody>\n",
       "    <tr>\n",
       "      <th>2393065</th>\n",
       "      <td>Mãi Mãi Là Bao Xa - Đủ Ngoại Truyện (Tái Bản 2...</td>\n",
       "      <td>5</td>\n",
       "      <td>6992378.0</td>\n",
       "      <td>Nguyễn Hương Giang</td>\n",
       "    </tr>\n",
       "    <tr>\n",
       "      <th>576121</th>\n",
       "      <td>Tuổi 20 Tôi Đã Sống Như Một Bông Hoa Dại (Tái ...</td>\n",
       "      <td>5</td>\n",
       "      <td>6992378.0</td>\n",
       "      <td>Nguyễn Hương Giang</td>\n",
       "    </tr>\n",
       "    <tr>\n",
       "      <th>427061</th>\n",
       "      <td>Sự Dịu Dàng Khó Cưỡng</td>\n",
       "      <td>5</td>\n",
       "      <td>6992378.0</td>\n",
       "      <td>Nguyễn Hương Giang</td>\n",
       "    </tr>\n",
       "    <tr>\n",
       "      <th>390193</th>\n",
       "      <td>Đạo Tình - Tập 2</td>\n",
       "      <td>5</td>\n",
       "      <td>6992378.0</td>\n",
       "      <td>Nguyễn Hương Giang</td>\n",
       "    </tr>\n",
       "    <tr>\n",
       "      <th>390192</th>\n",
       "      <td>Đạo Tình - Tập 1</td>\n",
       "      <td>5</td>\n",
       "      <td>6992378.0</td>\n",
       "      <td>Nguyễn Hương Giang</td>\n",
       "    </tr>\n",
       "  </tbody>\n",
       "</table>\n",
       "</div>"
      ],
      "text/plain": [
       "                                                 product_name  rating  \\\n",
       "product_id                                                              \n",
       "2393065     Mãi Mãi Là Bao Xa - Đủ Ngoại Truyện (Tái Bản 2...       5   \n",
       "576121      Tuổi 20 Tôi Đã Sống Như Một Bông Hoa Dại (Tái ...       5   \n",
       "427061                                  Sự Dịu Dàng Khó Cưỡng       5   \n",
       "390193                                       Đạo Tình - Tập 2       5   \n",
       "390192                                       Đạo Tình - Tập 1       5   \n",
       "\n",
       "            user_purchased_id user_purchased_name  \n",
       "product_id                                         \n",
       "2393065             6992378.0  Nguyễn Hương Giang  \n",
       "576121              6992378.0  Nguyễn Hương Giang  \n",
       "427061              6992378.0  Nguyễn Hương Giang  \n",
       "390193              6992378.0  Nguyễn Hương Giang  \n",
       "390192              6992378.0  Nguyễn Hương Giang  "
      ]
     },
     "execution_count": 16,
     "metadata": {},
     "output_type": "execute_result"
    }
   ],
   "source": [
    "user_id_recommend = 6992378.0\n",
    "df_use1 = df[(df['user_purchased_id'] == user_id_recommend)]\n",
    "df_use1 = df_use1.sort_values('rating', ascending=False)\n",
    "df_use1 = df_use1.set_index('product_id')\n",
    "df_use1.head(5)"
   ]
  },
  {
   "cell_type": "code",
   "execution_count": 17,
   "metadata": {},
   "outputs": [
    {
     "data": {
      "text/html": [
       "<div>\n",
       "<style scoped>\n",
       "    .dataframe tbody tr th:only-of-type {\n",
       "        vertical-align: middle;\n",
       "    }\n",
       "\n",
       "    .dataframe tbody tr th {\n",
       "        vertical-align: top;\n",
       "    }\n",
       "\n",
       "    .dataframe thead th {\n",
       "        text-align: right;\n",
       "    }\n",
       "</style>\n",
       "<table border=\"1\" class=\"dataframe\">\n",
       "  <thead>\n",
       "    <tr style=\"text-align: right;\">\n",
       "      <th></th>\n",
       "      <th>product_name</th>\n",
       "      <th>Estimate_Score</th>\n",
       "    </tr>\n",
       "    <tr>\n",
       "      <th>product_id</th>\n",
       "      <th></th>\n",
       "      <th></th>\n",
       "    </tr>\n",
       "  </thead>\n",
       "  <tbody>\n",
       "    <tr>\n",
       "      <th>4122051</th>\n",
       "      <td>Anh Biết Gió Từ Đâu Tới ( 2 Tập )</td>\n",
       "      <td>5.0</td>\n",
       "    </tr>\n",
       "    <tr>\n",
       "      <th>1029420</th>\n",
       "      <td>Vì Gió Ở Nơi Ấy</td>\n",
       "      <td>5.0</td>\n",
       "    </tr>\n",
       "    <tr>\n",
       "      <th>495502</th>\n",
       "      <td>Thạch Lam Tuyển Tập</td>\n",
       "      <td>5.0</td>\n",
       "    </tr>\n",
       "    <tr>\n",
       "      <th>1445367</th>\n",
       "      <td>Điểm Đến Của Cuộc Đời</td>\n",
       "      <td>5.0</td>\n",
       "    </tr>\n",
       "    <tr>\n",
       "      <th>430787</th>\n",
       "      <td>Combo Seven Days (Trọn Bộ 2 Tập) - Phiên Bản T...</td>\n",
       "      <td>5.0</td>\n",
       "    </tr>\n",
       "  </tbody>\n",
       "</table>\n",
       "</div>"
      ],
      "text/plain": [
       "                                                 product_name  Estimate_Score\n",
       "product_id                                                                   \n",
       "4122051                     Anh Biết Gió Từ Đâu Tới ( 2 Tập )             5.0\n",
       "1029420                                       Vì Gió Ở Nơi Ấy             5.0\n",
       "495502                                    Thạch Lam Tuyển Tập             5.0\n",
       "1445367                                 Điểm Đến Của Cuộc Đời             5.0\n",
       "430787      Combo Seven Days (Trọn Bộ 2 Tập) - Phiên Bản T...             5.0"
      ]
     },
     "execution_count": 17,
     "metadata": {},
     "output_type": "execute_result"
    }
   ],
   "source": [
    "user1 = df[['product_id','product_name']].copy()\n",
    "user1.drop_duplicates(subset =\"product_id\", keep = False, inplace = True)\n",
    "user1['Estimate_Score'] = user1['product_id'].apply(lambda x: svd.predict(user_id_recommend, x).est)\n",
    "user1 = user1.sort_values('Estimate_Score', ascending=False)\n",
    "user1 = user1.set_index('product_id')\n",
    "user1.head(5)"
   ]
  },
  {
   "cell_type": "code",
   "execution_count": null,
   "metadata": {},
   "outputs": [],
   "source": []
  }
 ],
 "metadata": {
  "kernelspec": {
   "display_name": "Python 3",
   "language": "python",
   "name": "python3"
  },
  "language_info": {
   "codemirror_mode": {
    "name": "ipython",
    "version": 3
   },
   "file_extension": ".py",
   "mimetype": "text/x-python",
   "name": "python",
   "nbconvert_exporter": "python",
   "pygments_lexer": "ipython3",
   "version": "3.7.3"
  }
 },
 "nbformat": 4,
 "nbformat_minor": 2
}
